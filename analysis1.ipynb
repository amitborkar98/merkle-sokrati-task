{
 "cells": [
  {
   "cell_type": "code",
   "execution_count": 67,
   "metadata": {},
   "outputs": [],
   "source": [
    "import pandas as pd\n",
    "import numpy as np\n",
    "import matplotlib.pyplot as plt\n",
    "%matplotlib inline"
   ]
  },
  {
   "cell_type": "code",
   "execution_count": 8,
   "metadata": {},
   "outputs": [],
   "source": [
    "df = pd.read_excel('data.xlsx', sheet_name='Assignment-1')"
   ]
  },
  {
   "cell_type": "code",
   "execution_count": 9,
   "metadata": {},
   "outputs": [
    {
     "data": {
      "text/html": [
       "<div>\n",
       "<style scoped>\n",
       "    .dataframe tbody tr th:only-of-type {\n",
       "        vertical-align: middle;\n",
       "    }\n",
       "\n",
       "    .dataframe tbody tr th {\n",
       "        vertical-align: top;\n",
       "    }\n",
       "\n",
       "    .dataframe thead th {\n",
       "        text-align: right;\n",
       "    }\n",
       "</style>\n",
       "<table border=\"1\" class=\"dataframe\">\n",
       "  <thead>\n",
       "    <tr style=\"text-align: right;\">\n",
       "      <th></th>\n",
       "      <th>Date</th>\n",
       "      <th>product</th>\n",
       "      <th>phase</th>\n",
       "      <th>campaign_platform</th>\n",
       "      <th>campaign_type</th>\n",
       "      <th>communication_medium</th>\n",
       "      <th>subchannel</th>\n",
       "      <th>audience_type</th>\n",
       "      <th>creative_type</th>\n",
       "      <th>creative_name</th>\n",
       "      <th>device</th>\n",
       "      <th>age</th>\n",
       "      <th>spends</th>\n",
       "      <th>impressions</th>\n",
       "      <th>clicks</th>\n",
       "      <th>link_clicks</th>\n",
       "    </tr>\n",
       "  </thead>\n",
       "  <tbody>\n",
       "    <tr>\n",
       "      <td>0</td>\n",
       "      <td>2019-10-16</td>\n",
       "      <td>Product 1</td>\n",
       "      <td>Performance</td>\n",
       "      <td>Google Ads</td>\n",
       "      <td>Search</td>\n",
       "      <td>Search Keywords</td>\n",
       "      <td>Brand</td>\n",
       "      <td>'-</td>\n",
       "      <td>'-</td>\n",
       "      <td>'-</td>\n",
       "      <td>Desktop</td>\n",
       "      <td>18-24</td>\n",
       "      <td>0.00</td>\n",
       "      <td>2</td>\n",
       "      <td>0</td>\n",
       "      <td>0.0</td>\n",
       "    </tr>\n",
       "    <tr>\n",
       "      <td>1</td>\n",
       "      <td>2019-10-16</td>\n",
       "      <td>Product 1</td>\n",
       "      <td>Performance</td>\n",
       "      <td>Google Ads</td>\n",
       "      <td>Search</td>\n",
       "      <td>Search Keywords</td>\n",
       "      <td>Brand</td>\n",
       "      <td>'-</td>\n",
       "      <td>'-</td>\n",
       "      <td>'-</td>\n",
       "      <td>Desktop</td>\n",
       "      <td>25-34</td>\n",
       "      <td>0.00</td>\n",
       "      <td>5</td>\n",
       "      <td>0</td>\n",
       "      <td>0.0</td>\n",
       "    </tr>\n",
       "    <tr>\n",
       "      <td>2</td>\n",
       "      <td>2019-10-16</td>\n",
       "      <td>Product 1</td>\n",
       "      <td>Performance</td>\n",
       "      <td>Google Ads</td>\n",
       "      <td>Search</td>\n",
       "      <td>Search Keywords</td>\n",
       "      <td>Brand</td>\n",
       "      <td>'-</td>\n",
       "      <td>'-</td>\n",
       "      <td>'-</td>\n",
       "      <td>Desktop</td>\n",
       "      <td>35-44</td>\n",
       "      <td>0.00</td>\n",
       "      <td>1</td>\n",
       "      <td>0</td>\n",
       "      <td>0.0</td>\n",
       "    </tr>\n",
       "    <tr>\n",
       "      <td>3</td>\n",
       "      <td>2019-10-16</td>\n",
       "      <td>Product 1</td>\n",
       "      <td>Performance</td>\n",
       "      <td>Google Ads</td>\n",
       "      <td>Search</td>\n",
       "      <td>Search Keywords</td>\n",
       "      <td>Brand</td>\n",
       "      <td>'-</td>\n",
       "      <td>'-</td>\n",
       "      <td>'-</td>\n",
       "      <td>Desktop</td>\n",
       "      <td>Undetermined</td>\n",
       "      <td>14.63</td>\n",
       "      <td>5</td>\n",
       "      <td>3</td>\n",
       "      <td>0.0</td>\n",
       "    </tr>\n",
       "    <tr>\n",
       "      <td>4</td>\n",
       "      <td>2019-10-18</td>\n",
       "      <td>Product 1</td>\n",
       "      <td>Performance</td>\n",
       "      <td>Google Ads</td>\n",
       "      <td>Search</td>\n",
       "      <td>Search Keywords</td>\n",
       "      <td>Brand</td>\n",
       "      <td>'-</td>\n",
       "      <td>'-</td>\n",
       "      <td>'-</td>\n",
       "      <td>Desktop</td>\n",
       "      <td>18-24</td>\n",
       "      <td>53.31</td>\n",
       "      <td>10</td>\n",
       "      <td>2</td>\n",
       "      <td>0.0</td>\n",
       "    </tr>\n",
       "  </tbody>\n",
       "</table>\n",
       "</div>"
      ],
      "text/plain": [
       "        Date    product        phase campaign_platform campaign_type  \\\n",
       "0 2019-10-16  Product 1  Performance        Google Ads        Search   \n",
       "1 2019-10-16  Product 1  Performance        Google Ads        Search   \n",
       "2 2019-10-16  Product 1  Performance        Google Ads        Search   \n",
       "3 2019-10-16  Product 1  Performance        Google Ads        Search   \n",
       "4 2019-10-18  Product 1  Performance        Google Ads        Search   \n",
       "\n",
       "  communication_medium subchannel audience_type creative_type creative_name  \\\n",
       "0      Search Keywords      Brand            '-            '-            '-   \n",
       "1      Search Keywords      Brand            '-            '-            '-   \n",
       "2      Search Keywords      Brand            '-            '-            '-   \n",
       "3      Search Keywords      Brand            '-            '-            '-   \n",
       "4      Search Keywords      Brand            '-            '-            '-   \n",
       "\n",
       "    device           age  spends  impressions  clicks  link_clicks  \n",
       "0  Desktop         18-24    0.00            2       0          0.0  \n",
       "1  Desktop         25-34    0.00            5       0          0.0  \n",
       "2  Desktop         35-44    0.00            1       0          0.0  \n",
       "3  Desktop  Undetermined   14.63            5       3          0.0  \n",
       "4  Desktop         18-24   53.31           10       2          0.0  "
      ]
     },
     "execution_count": 9,
     "metadata": {},
     "output_type": "execute_result"
    }
   ],
   "source": [
    "df.head()"
   ]
  },
  {
   "cell_type": "code",
   "execution_count": 10,
   "metadata": {},
   "outputs": [
    {
     "data": {
      "text/html": [
       "<div>\n",
       "<style scoped>\n",
       "    .dataframe tbody tr th:only-of-type {\n",
       "        vertical-align: middle;\n",
       "    }\n",
       "\n",
       "    .dataframe tbody tr th {\n",
       "        vertical-align: top;\n",
       "    }\n",
       "\n",
       "    .dataframe thead th {\n",
       "        text-align: right;\n",
       "    }\n",
       "</style>\n",
       "<table border=\"1\" class=\"dataframe\">\n",
       "  <thead>\n",
       "    <tr style=\"text-align: right;\">\n",
       "      <th></th>\n",
       "      <th>spends</th>\n",
       "      <th>impressions</th>\n",
       "      <th>clicks</th>\n",
       "      <th>link_clicks</th>\n",
       "    </tr>\n",
       "  </thead>\n",
       "  <tbody>\n",
       "    <tr>\n",
       "      <td>count</td>\n",
       "      <td>16834.000000</td>\n",
       "      <td>16834.000000</td>\n",
       "      <td>16834.000000</td>\n",
       "      <td>16288.000000</td>\n",
       "    </tr>\n",
       "    <tr>\n",
       "      <td>mean</td>\n",
       "      <td>148.694236</td>\n",
       "      <td>287.959190</td>\n",
       "      <td>11.977783</td>\n",
       "      <td>2.170371</td>\n",
       "    </tr>\n",
       "    <tr>\n",
       "      <td>std</td>\n",
       "      <td>483.895724</td>\n",
       "      <td>2444.450313</td>\n",
       "      <td>44.796963</td>\n",
       "      <td>18.659132</td>\n",
       "    </tr>\n",
       "    <tr>\n",
       "      <td>min</td>\n",
       "      <td>0.000000</td>\n",
       "      <td>0.000000</td>\n",
       "      <td>0.000000</td>\n",
       "      <td>0.000000</td>\n",
       "    </tr>\n",
       "    <tr>\n",
       "      <td>25%</td>\n",
       "      <td>0.180000</td>\n",
       "      <td>3.000000</td>\n",
       "      <td>0.000000</td>\n",
       "      <td>0.000000</td>\n",
       "    </tr>\n",
       "    <tr>\n",
       "      <td>50%</td>\n",
       "      <td>22.535000</td>\n",
       "      <td>13.000000</td>\n",
       "      <td>2.000000</td>\n",
       "      <td>0.000000</td>\n",
       "    </tr>\n",
       "    <tr>\n",
       "      <td>75%</td>\n",
       "      <td>110.020000</td>\n",
       "      <td>64.000000</td>\n",
       "      <td>8.000000</td>\n",
       "      <td>0.000000</td>\n",
       "    </tr>\n",
       "    <tr>\n",
       "      <td>max</td>\n",
       "      <td>9221.960000</td>\n",
       "      <td>67454.000000</td>\n",
       "      <td>1075.000000</td>\n",
       "      <td>450.000000</td>\n",
       "    </tr>\n",
       "  </tbody>\n",
       "</table>\n",
       "</div>"
      ],
      "text/plain": [
       "             spends   impressions        clicks   link_clicks\n",
       "count  16834.000000  16834.000000  16834.000000  16288.000000\n",
       "mean     148.694236    287.959190     11.977783      2.170371\n",
       "std      483.895724   2444.450313     44.796963     18.659132\n",
       "min        0.000000      0.000000      0.000000      0.000000\n",
       "25%        0.180000      3.000000      0.000000      0.000000\n",
       "50%       22.535000     13.000000      2.000000      0.000000\n",
       "75%      110.020000     64.000000      8.000000      0.000000\n",
       "max     9221.960000  67454.000000   1075.000000    450.000000"
      ]
     },
     "execution_count": 10,
     "metadata": {},
     "output_type": "execute_result"
    }
   ],
   "source": [
    "df.describe()"
   ]
  },
  {
   "cell_type": "markdown",
   "metadata": {},
   "source": [
    "# Exploratory Data Analysis"
   ]
  },
  {
   "cell_type": "code",
   "execution_count": 22,
   "metadata": {},
   "outputs": [
    {
     "data": {
      "text/plain": [
       "Date                      0\n",
       "product                   0\n",
       "phase                     0\n",
       "campaign_platform         0\n",
       "campaign_type             0\n",
       "communication_medium      0\n",
       "subchannel                0\n",
       "audience_type             0\n",
       "creative_type             0\n",
       "creative_name             0\n",
       "device                    0\n",
       "age                       0\n",
       "spends                    0\n",
       "impressions               0\n",
       "clicks                    0\n",
       "link_clicks             546\n",
       "dtype: int64"
      ]
     },
     "execution_count": 22,
     "metadata": {},
     "output_type": "execute_result"
    }
   ],
   "source": [
    "# calculating the null values in then \n",
    "df.isna().sum()"
   ]
  },
  {
   "cell_type": "code",
   "execution_count": 26,
   "metadata": {},
   "outputs": [
    {
     "data": {
      "text/plain": [
       "3.3521611001964637"
      ]
     },
     "execution_count": 26,
     "metadata": {},
     "output_type": "execute_result"
    }
   ],
   "source": [
    "# caluclating null value percentage in the link_clicks column\n",
    "df.link_clicks.isna().sum() * 100 /df.link_clicks.count()"
   ]
  },
  {
   "cell_type": "code",
   "execution_count": 44,
   "metadata": {},
   "outputs": [
    {
     "name": "stdout",
     "output_type": "stream",
     "text": [
      "Date-257\n",
      "product-1\n",
      "phase-1\n",
      "campaign_platform-2\n",
      "campaign_type-2\n",
      "communication_medium-2\n",
      "subchannel-4\n",
      "audience_type-4\n",
      "creative_type-3\n",
      "creative_name-4\n",
      "device-4\n",
      "age-7\n",
      "spends-9087\n",
      "impressions-1188\n",
      "clicks-263\n",
      "link_clicks-160\n"
     ]
    }
   ],
   "source": [
    "# calculating value counts for each column\n",
    "for col in df.columns:\n",
    "    print(col + \"-\" + str(df[col].value_counts().count()))"
   ]
  },
  {
   "cell_type": "code",
   "execution_count": 49,
   "metadata": {},
   "outputs": [
    {
     "data": {
      "text/plain": [
       "Google Ads      15101\n",
       "Facebook Ads     1733\n",
       "Name: campaign_platform, dtype: int64"
      ]
     },
     "execution_count": 49,
     "metadata": {},
     "output_type": "execute_result"
    }
   ],
   "source": [
    "df['campaign_platform'].value_counts()"
   ]
  },
  {
   "cell_type": "code",
   "execution_count": 50,
   "metadata": {},
   "outputs": [
    {
     "data": {
      "text/plain": [
       "Search         15101\n",
       "Conversions     1733\n",
       "Name: campaign_type, dtype: int64"
      ]
     },
     "execution_count": 50,
     "metadata": {},
     "output_type": "execute_result"
    }
   ],
   "source": [
    "df['campaign_type'].value_counts()"
   ]
  },
  {
   "cell_type": "code",
   "execution_count": 51,
   "metadata": {},
   "outputs": [
    {
     "data": {
      "text/plain": [
       "Search Keywords    15101\n",
       "Creative            1733\n",
       "Name: communication_medium, dtype: int64"
      ]
     },
     "execution_count": 51,
     "metadata": {},
     "output_type": "execute_result"
    }
   ],
   "source": [
    "df['communication_medium'].value_counts()"
   ]
  },
  {
   "cell_type": "code",
   "execution_count": 53,
   "metadata": {},
   "outputs": [
    {
     "data": {
      "text/plain": [
       "Brand           7853\n",
       "Generic         4544\n",
       "Competitor      2704\n",
       "Facebook Ads    1733\n",
       "Name: subchannel, dtype: int64"
      ]
     },
     "execution_count": 53,
     "metadata": {},
     "output_type": "execute_result"
    }
   ],
   "source": [
    "df['subchannel'].value_counts()"
   ]
  },
  {
   "cell_type": "code",
   "execution_count": 54,
   "metadata": {},
   "outputs": [
    {
     "data": {
      "text/plain": [
       "'-            15101\n",
       "Audience 1      813\n",
       "Audience 2      738\n",
       "Audience 3      182\n",
       "Name: audience_type, dtype: int64"
      ]
     },
     "execution_count": 54,
     "metadata": {},
     "output_type": "execute_result"
    }
   ],
   "source": [
    "df['audience_type'].value_counts()"
   ]
  },
  {
   "cell_type": "code",
   "execution_count": 55,
   "metadata": {},
   "outputs": [
    {
     "data": {
      "text/plain": [
       "'-          15101\n",
       "Image        1130\n",
       "Carousal      603\n",
       "Name: creative_type, dtype: int64"
      ]
     },
     "execution_count": 55,
     "metadata": {},
     "output_type": "execute_result"
    }
   ],
   "source": [
    "df['creative_type'].value_counts()"
   ]
  },
  {
   "cell_type": "code",
   "execution_count": 56,
   "metadata": {},
   "outputs": [
    {
     "data": {
      "text/plain": [
       "'-          15101\n",
       "Click         644\n",
       "Carousal      603\n",
       "Girl          486\n",
       "Name: creative_name, dtype: int64"
      ]
     },
     "execution_count": 56,
     "metadata": {},
     "output_type": "execute_result"
    }
   ],
   "source": [
    "df['creative_name'].value_counts()"
   ]
  },
  {
   "cell_type": "code",
   "execution_count": 57,
   "metadata": {},
   "outputs": [
    {
     "data": {
      "text/plain": [
       "Mobile     7357\n",
       "Desktop    6318\n",
       "device     1733\n",
       "Tablet     1426\n",
       "Name: device, dtype: int64"
      ]
     },
     "execution_count": 57,
     "metadata": {},
     "output_type": "execute_result"
    }
   ],
   "source": [
    "df['device'].value_counts()"
   ]
  },
  {
   "cell_type": "code",
   "execution_count": 58,
   "metadata": {},
   "outputs": [
    {
     "data": {
      "text/plain": [
       "25-34           3097\n",
       "35-44           2865\n",
       "Undetermined    2586\n",
       "45-54           2499\n",
       "18-24           2472\n",
       "55-64           1757\n",
       "65 or more      1558\n",
       "Name: age, dtype: int64"
      ]
     },
     "execution_count": 58,
     "metadata": {},
     "output_type": "execute_result"
    }
   ],
   "source": [
    "df['age'].value_counts()"
   ]
  },
  {
   "cell_type": "code",
   "execution_count": 65,
   "metadata": {},
   "outputs": [
    {
     "data": {
      "text/plain": [
       "Date                    datetime64[ns]\n",
       "product                         object\n",
       "phase                           object\n",
       "campaign_platform               object\n",
       "campaign_type                   object\n",
       "communication_medium            object\n",
       "subchannel                      object\n",
       "audience_type                   object\n",
       "creative_type                   object\n",
       "creative_name                   object\n",
       "device                          object\n",
       "age                             object\n",
       "spends                         float64\n",
       "impressions                      int64\n",
       "clicks                           int64\n",
       "link_clicks                    float64\n",
       "dtype: object"
      ]
     },
     "execution_count": 65,
     "metadata": {},
     "output_type": "execute_result"
    }
   ],
   "source": [
    "df.dtypes"
   ]
  },
  {
   "cell_type": "code",
   "execution_count": 72,
   "metadata": {},
   "outputs": [
    {
     "data": {
      "image/png": "[encoded data removed]",
      "text/plain": [
       "<Figure size 432x288 with 1 Axes>"
      ]
     },
     "metadata": {
      "needs_background": "light"
     },
     "output_type": "display_data"
    }
   ],
   "source": [
    "# plotting the age distribution\n",
    "df['age'].value_counts().plot();"
   ]
  },
  {
   "cell_type": "code",
   "execution_count": 73,
   "metadata": {},
   "outputs": [
    {
     "data": {
      "image/png": "[encoded data removed]",
      "text/plain": [
       "<Figure size 432x288 with 1 Axes>"
      ]
     },
     "metadata": {
      "needs_background": "light"
     },
     "output_type": "display_data"
    }
   ],
   "source": [
    "# plotting the device counts in the data\n",
    "plt.hist(data=df, x='device',color = '#66c2ff');"
   ]
  },
  {
   "cell_type": "code",
   "execution_count": 92,
   "metadata": {},
   "outputs": [
    {
     "data": {
      "text/plain": [
       "<bound method DataFrame.nunique of       audience_type creative_type creative_name\n",
       "0                '-            '-            '-\n",
       "1                '-            '-            '-\n",
       "2                '-            '-            '-\n",
       "3                '-            '-            '-\n",
       "4                '-            '-            '-\n",
       "...             ...           ...           ...\n",
       "16829            '-            '-            '-\n",
       "16830            '-            '-            '-\n",
       "16831            '-            '-            '-\n",
       "16832            '-            '-            '-\n",
       "16833            '-            '-            '-\n",
       "\n",
       "[15101 rows x 3 columns]>"
      ]
     },
     "execution_count": 92,
     "metadata": {},
     "output_type": "execute_result"
    }
   ],
   "source": [
    "df[df['campaign_platform'] == 'Google Ads'][['audience_type', 'creative_type', 'creative_name']].nunique"
   ]
  },
  {
   "cell_type": "code",
   "execution_count": 96,
   "metadata": {},
   "outputs": [
    {
     "data": {
      "text/plain": [
       "Facebook Ads    1733\n",
       "Name: subchannel, dtype: int64"
      ]
     },
     "execution_count": 96,
     "metadata": {},
     "output_type": "execute_result"
    }
   ],
   "source": [
    "df[df['campaign_platform'] == 'Facebook Ads']['subchannel'].value_counts()"
   ]
  },
  {
   "cell_type": "code",
   "execution_count": 100,
   "metadata": {},
   "outputs": [
    {
     "data": {
      "text/plain": [
       "Creative    1733\n",
       "Name: communication_medium, dtype: int64"
      ]
     },
     "execution_count": 100,
     "metadata": {},
     "output_type": "execute_result"
    }
   ],
   "source": [
    "df[df['campaign_platform'] == 'Facebook Ads']['communication_medium'].value_counts()"
   ]
  },
  {
   "cell_type": "code",
   "execution_count": 104,
   "metadata": {},
   "outputs": [
    {
     "data": {
      "text/plain": [
       "Conversions    1733\n",
       "Name: campaign_type, dtype: int64"
      ]
     },
     "execution_count": 104,
     "metadata": {},
     "output_type": "execute_result"
    }
   ],
   "source": [
    "df[df['campaign_platform'] == 'Facebook Ads']['campaign_type'].value_counts()"
   ]
  },
  {
   "cell_type": "code",
   "execution_count": null,
   "metadata": {},
   "outputs": [],
   "source": []
  },
  {
   "cell_type": "code",
   "execution_count": null,
   "metadata": {},
   "outputs": [],
   "source": []
  },
  {
   "cell_type": "code",
   "execution_count": null,
   "metadata": {},
   "outputs": [],
   "source": []
  },
  {
   "cell_type": "code",
   "execution_count": null,
   "metadata": {},
   "outputs": [],
   "source": []
  }
 ],
 "metadata": {
  "kernelspec": {
   "display_name": "Python 3",
   "language": "python",
   "name": "python3"
  },
  "language_info": {
   "codemirror_mode": {
    "name": "ipython",
    "version": 3
   },
   "file_extension": ".py",
   "mimetype": "text/x-python",
   "name": "python",
   "nbconvert_exporter": "python",
   "pygments_lexer": "ipython3",
   "version": "3.7.4"
  }
 },
 "nbformat": 4,
 "nbformat_minor": 2
}
